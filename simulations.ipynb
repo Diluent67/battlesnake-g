{
 "cells": [
  {
   "cell_type": "code",
   "execution_count": 1,
   "id": "initial_id",
   "metadata": {
    "collapsed": true,
    "ExecuteTime": {
     "end_time": "2023-11-05T21:32:49.594368700Z",
     "start_time": "2023-11-05T21:32:49.574321700Z"
    }
   },
   "outputs": [],
   "source": [
    "import os\n",
    "import subprocess"
   ]
  },
  {
   "cell_type": "code",
   "execution_count": 2,
   "outputs": [],
   "source": [
    "winners = []"
   ],
   "metadata": {
    "collapsed": false,
    "ExecuteTime": {
     "end_time": "2023-11-05T21:32:49.594368700Z",
     "start_time": "2023-11-05T21:32:49.584013200Z"
    }
   },
   "id": "c4520983ada804de"
  },
  {
   "cell_type": "code",
   "execution_count": 3,
   "outputs": [],
   "source": [
    "sim = subprocess.run(\"\"\"./battlesnake.exe play -W 11 -H 11 --name Nightwing --url https://octopus-app-u4n2n.ondigitalocean.app/ --name Rick --url https://monkfish-app-fwkab.ondigitalocean.app/ --name Matt --url https://battlesnake-matt.azurewebsites.net/ --name Glynn --url https://battlesnake-glynn.azurewebsites.net/ --name Jesse --url https://battlesnake-jesse.azurewebsites.net/ --name JonK --url https://jellyfish-app-zz9gu.ondigitalocean.app/rust --name Einar --url https://battlesnakes-einar.azurewebsites.net/  --name Tiana --url https://battlesnake-tiana.azurewebsites.net/ \"\"\", shell=True, stdout=subprocess.PIPE, stderr=subprocess.PIPE, universal_newlines=True)"
   ],
   "metadata": {
    "collapsed": false,
    "ExecuteTime": {
     "end_time": "2023-11-05T21:32:54.293980100Z",
     "start_time": "2023-11-05T21:32:53.184510700Z"
    }
   },
   "id": "d6d7478ae4d0ea18"
  },
  {
   "cell_type": "code",
   "execution_count": 14,
   "outputs": [
    {
     "name": "stdout",
     "output_type": "stream",
     "text": [
      "Nightwing\n",
      "JonK\n",
      "Nightwing\n",
      "JonK\n",
      "Nightwing\n",
      "JonK\n",
      "Nightwing\n",
      "JonK\n",
      "Matt\n",
      "Nightwing\n",
      "Nightwing\n",
      "Nightwing\n",
      "Nightwing\n",
      "Nightwing\n",
      "Rick\n",
      "Nightwing\n",
      "Nightwing\n",
      "Rick\n",
      "Nightwing\n",
      "JonK\n",
      "Glynn\n",
      "JonK\n",
      "Nightwing\n",
      "Nightwing\n",
      "Nightwing\n",
      "Rick\n",
      "Rick\n",
      "Nightwing\n",
      "Nightwing\n",
      "JonK\n",
      "Einar\n",
      "Matt\n",
      "JonK\n",
      "JonK\n",
      "Einar\n",
      "Rick\n",
      "Rick\n",
      "Jesse\n",
      "Nightwing\n",
      "Jesse\n",
      "Nightwing\n",
      "JonK\n",
      "Rick\n",
      "It was a draw.\n",
      "Rick\n",
      "Nightwing\n",
      "Nightwing\n",
      "JonK\n",
      "Rick\n",
      "Nightwing\n",
      "Nightwing\n",
      "Nightwing\n",
      "Rick\n",
      "JonK\n",
      "Glynn\n"
     ]
    }
   ],
   "source": [
    "for i in range(200): \n",
    "    sim = subprocess.run(\"\"\"./battlesnake.exe play -W 11 -H 11 --name Nightwing --url https://octopus-app-u4n2n.ondigitalocean.app/ --name Rick --url https://monkfish-app-fwkab.ondigitalocean.app/ --name Matt --url https://battlesnake-matt.azurewebsites.net/ --name Glynn --url https://battlesnake-glynn.azurewebsites.net/ --name Jesse --url https://battlesnake-jesse.azurewebsites.net/ --name JonK --url https://jellyfish-app-zz9gu.ondigitalocean.app/rust --name Einar --url https://battlesnakes-einar.azurewebsites.net/  --name Tiana --url https://battlesnake-tiana.azurewebsites.net/ \"\"\", shell=True, stdout=subprocess.PIPE, stderr=subprocess.PIPE, universal_newlines=True)\n",
    "    try:\n",
    "        winner = sim.stderr.split(\"Game completed\")[1].split(\" was the winner\")[0].split(\"turns. \")[1]\n",
    "        winners.append(winner)\n",
    "        print(winner)\n",
    "    except:\n",
    "        pass"
   ],
   "metadata": {
    "collapsed": false,
    "ExecuteTime": {
     "end_time": "2023-11-05T23:32:44.824101500Z",
     "start_time": "2023-11-05T22:58:25.430961800Z"
    }
   },
   "id": "b37234f201e1e6da"
  },
  {
   "cell_type": "code",
   "execution_count": 15,
   "outputs": [
    {
     "data": {
      "text/plain": "138"
     },
     "execution_count": 15,
     "metadata": {},
     "output_type": "execute_result"
    }
   ],
   "source": [
    "len(winners)"
   ],
   "metadata": {
    "collapsed": false,
    "ExecuteTime": {
     "end_time": "2023-11-06T00:03:30.336067100Z",
     "start_time": "2023-11-06T00:03:30.273515900Z"
    }
   },
   "id": "6a2f26c16a3a5d9"
  },
  {
   "cell_type": "code",
   "execution_count": 16,
   "outputs": [],
   "source": [
    "from collections import Counter"
   ],
   "metadata": {
    "collapsed": false,
    "ExecuteTime": {
     "end_time": "2023-11-06T00:03:32.483670300Z",
     "start_time": "2023-11-06T00:03:32.452515300Z"
    }
   },
   "id": "37fe75f602e6228a"
  },
  {
   "cell_type": "code",
   "execution_count": 17,
   "outputs": [
    {
     "data": {
      "text/plain": "Counter({'Nightwing': 73,\n         'JonK': 32,\n         'Rick': 14,\n         'Einar': 9,\n         'Jesse': 4,\n         'Matt': 3,\n         'Glynn': 2,\n         'It was a draw.\\n': 1})"
     },
     "execution_count": 17,
     "metadata": {},
     "output_type": "execute_result"
    }
   ],
   "source": [
    "Counter(winners)"
   ],
   "metadata": {
    "collapsed": false,
    "ExecuteTime": {
     "end_time": "2023-11-06T00:03:33.262582900Z",
     "start_time": "2023-11-06T00:03:33.215294700Z"
    }
   },
   "id": "8c1ae66113a8500b"
  },
  {
   "cell_type": "code",
   "execution_count": 18,
   "outputs": [
    {
     "data": {
      "text/plain": "0.5289855072463768"
     },
     "execution_count": 18,
     "metadata": {},
     "output_type": "execute_result"
    }
   ],
   "source": [
    "73/138"
   ],
   "metadata": {
    "collapsed": false,
    "ExecuteTime": {
     "end_time": "2023-11-06T00:03:45.834499500Z",
     "start_time": "2023-11-06T00:03:45.803236300Z"
    }
   },
   "id": "5d027ad8571db2c4"
  },
  {
   "cell_type": "code",
   "execution_count": null,
   "outputs": [],
   "source": [],
   "metadata": {
    "collapsed": false
   },
   "id": "7c884901378b481a"
  }
 ],
 "metadata": {
  "kernelspec": {
   "display_name": "Python 3",
   "language": "python",
   "name": "python3"
  },
  "language_info": {
   "codemirror_mode": {
    "name": "ipython",
    "version": 2
   },
   "file_extension": ".py",
   "mimetype": "text/x-python",
   "name": "python",
   "nbconvert_exporter": "python",
   "pygments_lexer": "ipython2",
   "version": "2.7.6"
  }
 },
 "nbformat": 4,
 "nbformat_minor": 5
}

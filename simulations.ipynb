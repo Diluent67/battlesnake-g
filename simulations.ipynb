{
 "cells": [
  {
   "cell_type": "code",
   "execution_count": 1,
   "id": "initial_id",
   "metadata": {
    "collapsed": true,
    "ExecuteTime": {
     "end_time": "2023-11-01T11:35:55.270759300Z",
     "start_time": "2023-11-01T11:35:55.261871Z"
    }
   },
   "outputs": [],
   "source": [
    "import os\n",
    "import subprocess"
   ]
  },
  {
   "cell_type": "code",
   "execution_count": 2,
   "outputs": [],
   "source": [
    "winners = []"
   ],
   "metadata": {
    "collapsed": false,
    "ExecuteTime": {
     "end_time": "2023-11-01T11:35:55.288490500Z",
     "start_time": "2023-11-01T11:35:55.278043400Z"
    }
   },
   "id": "c4520983ada804de"
  },
  {
   "cell_type": "code",
   "execution_count": 7,
   "outputs": [
    {
     "name": "stderr",
     "output_type": "stream",
     "text": [
      "INFO 11:57:56.389152 Snake ID: 10a69ab5-bdea-43a7-b392-5bf771b84645 URL: https://octopus-app-u4n2n.ondigitalocean.app/, Name: \"Nightwing\"\n",
      "INFO 11:57:56.559923 Snake ID: 060577ef-ef43-453d-ac0f-6fc8c06dbb50 URL: https://monkfish-app-fwkab.ondigitalocean.app/, Name: \"Rick\"\n",
      "INFO 11:57:56.679081 Snake ID: 8a1bf447-8556-4f9e-89bf-6cb3240e28e7 URL: https://battlesnake-matt.azurewebsites.net/, Name: \"Matt\"\n",
      "INFO 11:57:56.819566 Snake ID: 269d70d6-9002-4e9b-a2b6-2b2943a027b2 URL: https://battlesnake-glynn.azurewebsites.net/, Name: \"Glynn\"\n",
      "INFO 11:57:56.959421 Snake ID: 5e4f0c3f-c2ff-41f2-b124-6892cc7f06ab URL: https://battlesnake-jesse.azurewebsites.net/, Name: \"Jesse\"\n",
      "INFO 11:57:57.028213 Snake ID: 25f72ea9-e5ce-4bcf-be2a-4220f63a56f3 URL: https://jellyfish-app-zz9gu.ondigitalocean.app/rust, Name: \"JonK\"\n",
      "INFO 11:57:57.405160 Snake ID: 0ae0fe6d-6267-461e-8728-e2cdfbdec354 URL: https://battlesnakes-einar.azurewebsites.net/, Name: \"Einar\"\n",
      "INFO 11:57:57.529492 Snake ID: b519d398-3225-419d-b360-276363ca54a1 URL: https://battlesnake-tiana.azurewebsites.net/, Name: \"Tiana\"\n",
      "INFO 11:57:58.323031 Ruleset: standard, Seed: 1698839876276637300\n",
      "INFO 11:57:58.323031 Turn: 0, Snakes Alive: [Glynn, Jesse, JonK, Einar, Tiana, Nightwing, Rick, Matt], Food: 9, Hazards: 0\n",
      "WARN 11:57:58.472602 Got non-ok status code from https://battlesnake-glynn.azurewebsites.net/move\n",
      "\tStatusCode: 500 (expected 200)\n",
      "\tBody: \"<!doctype html>\\n<html lang=en>\\n<title>500 Internal Server Error</title>\\n<h1>Internal Server Error</h1>\\n<p>The server encountered an internal error and was unable to complete your request. Either the server is overloaded or there is an error in the application.</p>\\n\"\n",
      "INFO 11:57:58.782185 Turn: 1, Snakes Alive: [Glynn, Jesse, JonK, Einar, Tiana, Nightwing, Rick, Matt], Food: 9, Hazards: 0\n",
      "INFO 11:57:58.929087 Turn: 2, Snakes Alive: [Glynn, Jesse, JonK, Einar, Tiana, Nightwing, Rick, Matt], Food: 5, Hazards: 0\n",
      "INFO 11:57:59.126463 Turn: 3, Snakes Alive: [Glynn, Jesse, JonK, Einar, Tiana, Nightwing, Rick, Matt], Food: 5, Hazards: 0\n",
      "INFO 11:57:59.629693 Turn: 4, Snakes Alive: [Glynn, Jesse, JonK, Einar, Nightwing, Rick, Matt], Food: 3, Hazards: 0\n",
      "INFO 11:57:59.981801 Turn: 5, Snakes Alive: [Glynn, Jesse, JonK, Einar, Nightwing, Rick, Matt], Food: 3, Hazards: 0\n",
      "INFO 11:58:00.169970 Turn: 6, Snakes Alive: [Glynn, Jesse, JonK, Einar, Nightwing, Rick, Matt], Food: 2, Hazards: 0\n",
      "INFO 11:58:00.379244 Turn: 7, Snakes Alive: [Glynn, Jesse, JonK, Einar, Nightwing, Rick, Matt], Food: 2, Hazards: 0\n",
      "INFO 11:58:00.570804 Turn: 8, Snakes Alive: [Glynn, Jesse, JonK, Einar, Nightwing, Rick, Matt], Food: 2, Hazards: 0\n",
      "INFO 11:58:00.870626 Turn: 9, Snakes Alive: [Glynn, Jesse, JonK, Einar, Nightwing, Rick, Matt], Food: 2, Hazards: 0\n",
      "INFO 11:58:01.109201 Turn: 10, Snakes Alive: [Glynn, Jesse, JonK, Einar, Nightwing, Rick, Matt], Food: 1, Hazards: 0\n",
      "INFO 11:58:01.285377 Turn: 11, Snakes Alive: [Glynn, Jesse, JonK, Einar, Nightwing, Rick, Matt], Food: 1, Hazards: 0\n",
      "INFO 11:58:01.457177 Turn: 12, Snakes Alive: [Glynn, Jesse, JonK, Einar, Nightwing, Rick, Matt], Food: 1, Hazards: 0\n",
      "INFO 11:58:01.638889 Turn: 13, Snakes Alive: [Glynn, Jesse, JonK, Einar, Nightwing, Rick, Matt], Food: 1, Hazards: 0\n",
      "INFO 11:58:01.795627 Turn: 14, Snakes Alive: [Glynn, Jesse, JonK, Einar, Nightwing, Rick, Matt], Food: 1, Hazards: 0\n",
      "INFO 11:58:01.934874 Turn: 15, Snakes Alive: [Glynn, Jesse, JonK, Einar, Nightwing, Rick, Matt], Food: 1, Hazards: 0\n",
      "WARN 11:58:01.976977 Got non-ok status code from https://battlesnake-jesse.azurewebsites.net/move\n",
      "\tStatusCode: 500 (expected 200)\n",
      "\tBody: \"<!doctype html>\\n<html lang=en>\\n<title>500 Internal Server Error</title>\\n<h1>Internal Server Error</h1>\\n<p>The server encountered an internal error and was unable to complete your request. Either the server is overloaded or there is an error in the application.</p>\\n\"\n",
      "INFO 11:58:02.177566 Turn: 16, Snakes Alive: [Glynn, Jesse, JonK, Einar, Nightwing, Rick, Matt], Food: 1, Hazards: 0\n",
      "WARN 11:58:02.694469 Failed to read response body from https://battlesnakes-einar.azurewebsites.net/move\n",
      "\tError: context deadline exceeded (Client.Timeout or context cancellation while reading body)\n",
      "INFO 11:58:02.694469 Turn: 17, Snakes Alive: [Glynn, Jesse, JonK, Einar, Nightwing, Rick, Matt], Food: 1, Hazards: 0\n",
      "INFO 11:58:03.100642 Turn: 18, Snakes Alive: [Glynn, Jesse, JonK, Einar, Nightwing, Rick, Matt], Food: 1, Hazards: 0\n",
      "WARN 11:58:03.130219 Got non-ok status code from https://battlesnake-jesse.azurewebsites.net/move\n",
      "\tStatusCode: 500 (expected 200)\n",
      "\tBody: \"<!doctype html>\\n<html lang=en>\\n<title>500 Internal Server Error</title>\\n<h1>Internal Server Error</h1>\\n<p>The server encountered an internal error and was unable to complete your request. Either the server is overloaded or there is an error in the application.</p>\\n\"\n",
      "INFO 11:58:03.338626 Turn: 19, Snakes Alive: [Glynn, Jesse, JonK, Einar, Nightwing, Rick, Matt], Food: 1, Hazards: 0\n",
      "INFO 11:58:03.721244 Turn: 20, Snakes Alive: [Jesse, JonK, Einar, Nightwing, Rick, Matt], Food: 2, Hazards: 0\n",
      "INFO 11:58:04.009407 Turn: 21, Snakes Alive: [Jesse, JonK, Einar, Nightwing, Rick, Matt], Food: 2, Hazards: 0\n",
      "INFO 11:58:04.159112 Turn: 22, Snakes Alive: [Jesse, JonK, Einar, Nightwing, Rick, Matt], Food: 2, Hazards: 0\n",
      "INFO 11:58:04.353843 Turn: 23, Snakes Alive: [Jesse, JonK, Einar, Nightwing, Rick, Matt], Food: 2, Hazards: 0\n",
      "INFO 11:58:04.595862 Turn: 24, Snakes Alive: [Jesse, JonK, Einar, Nightwing, Rick, Matt], Food: 2, Hazards: 0\n",
      "WARN 11:58:05.111858 Request to https://battlesnakes-einar.azurewebsites.net/move failed\n",
      "\tError: Post \"https://battlesnakes-einar.azurewebsites.net/move\": context deadline exceeded (Client.Timeout exceeded while awaiting headers)\n",
      "INFO 11:58:05.112484 Turn: 25, Snakes Alive: [Jesse, JonK, Einar, Nightwing, Rick, Matt], Food: 2, Hazards: 0\n",
      "INFO 11:58:05.558204 Turn: 26, Snakes Alive: [Jesse, JonK, Einar, Nightwing, Rick, Matt], Food: 2, Hazards: 0\n",
      "WARN 11:58:05.592111 Got non-ok status code from https://battlesnake-jesse.azurewebsites.net/move\n",
      "\tStatusCode: 500 (expected 200)\n",
      "\tBody: \"<!doctype html>\\n<html lang=en>\\n<title>500 Internal Server Error</title>\\n<h1>Internal Server Error</h1>\\n<p>The server encountered an internal error and was unable to complete your request. Either the server is overloaded or there is an error in the application.</p>\\n\"\n",
      "INFO 11:58:05.684311 Turn: 27, Snakes Alive: [Jesse, JonK, Einar, Nightwing, Rick, Matt], Food: 2, Hazards: 0\n",
      "INFO 11:58:05.845333 Turn: 28, Snakes Alive: [Jesse, JonK, Einar, Nightwing, Rick, Matt], Food: 2, Hazards: 0\n",
      "INFO 11:58:06.080488 Turn: 29, Snakes Alive: [Jesse, JonK, Einar, Nightwing, Rick, Matt], Food: 2, Hazards: 0\n",
      "INFO 11:58:06.277172 Turn: 30, Snakes Alive: [Jesse, JonK, Einar, Nightwing, Rick, Matt], Food: 2, Hazards: 0\n",
      "INFO 11:58:06.401699 Turn: 31, Snakes Alive: [Jesse, JonK, Einar, Nightwing, Rick, Matt], Food: 2, Hazards: 0\n",
      "INFO 11:58:06.572568 Turn: 32, Snakes Alive: [Jesse, JonK, Einar, Nightwing, Rick, Matt], Food: 1, Hazards: 0\n",
      "INFO 11:58:06.715485 Turn: 33, Snakes Alive: [Jesse, JonK, Einar, Nightwing, Rick, Matt], Food: 1, Hazards: 0\n",
      "INFO 11:58:06.872187 Turn: 34, Snakes Alive: [Jesse, JonK, Einar, Nightwing, Rick, Matt], Food: 2, Hazards: 0\n",
      "INFO 11:58:07.085386 Turn: 35, Snakes Alive: [Jesse, JonK, Einar, Nightwing, Rick, Matt], Food: 1, Hazards: 0\n",
      "INFO 11:58:07.283081 Turn: 36, Snakes Alive: [Jesse, JonK, Einar, Nightwing, Rick, Matt], Food: 1, Hazards: 0\n",
      "INFO 11:58:07.463874 Turn: 37, Snakes Alive: [Jesse, JonK, Einar, Nightwing, Rick, Matt], Food: 1, Hazards: 0\n",
      "INFO 11:58:07.648105 Turn: 38, Snakes Alive: [Jesse, JonK, Einar, Nightwing, Rick, Matt], Food: 1, Hazards: 0\n",
      "INFO 11:58:07.833940 Turn: 39, Snakes Alive: [Jesse, JonK, Einar, Nightwing, Rick, Matt], Food: 1, Hazards: 0\n",
      "INFO 11:58:08.269679 Turn: 40, Snakes Alive: [Jesse, JonK, Einar, Nightwing, Rick, Matt], Food: 1, Hazards: 0\n",
      "INFO 11:58:08.441351 Turn: 41, Snakes Alive: [Jesse, JonK, Einar, Nightwing, Rick, Matt], Food: 2, Hazards: 0\n",
      "INFO 11:58:08.575368 Turn: 42, Snakes Alive: [Jesse, JonK, Einar, Nightwing, Rick, Matt], Food: 1, Hazards: 0\n",
      "INFO 11:58:08.713491 Turn: 43, Snakes Alive: [Jesse, JonK, Einar, Nightwing, Rick, Matt], Food: 1, Hazards: 0\n",
      "INFO 11:58:08.945977 Turn: 44, Snakes Alive: [Jesse, JonK, Einar, Nightwing, Rick, Matt], Food: 1, Hazards: 0\n",
      "INFO 11:58:09.133549 Turn: 45, Snakes Alive: [Jesse, JonK, Einar, Nightwing, Rick, Matt], Food: 1, Hazards: 0\n",
      "INFO 11:58:09.258034 Turn: 46, Snakes Alive: [Jesse, JonK, Einar, Nightwing, Rick, Matt], Food: 2, Hazards: 0\n",
      "INFO 11:58:09.383228 Turn: 47, Snakes Alive: [Jesse, JonK, Einar, Nightwing, Rick, Matt], Food: 2, Hazards: 0\n",
      "INFO 11:58:09.498206 Turn: 48, Snakes Alive: [Jesse, JonK, Einar, Nightwing, Rick, Matt], Food: 1, Hazards: 0\n",
      "INFO 11:58:09.618912 Turn: 49, Snakes Alive: [Jesse, JonK, Nightwing, Rick, Matt], Food: 2, Hazards: 0\n",
      "WARN 11:58:09.701590 Got non-ok status code from https://octopus-app-u4n2n.ondigitalocean.app/move\n",
      "\tStatusCode: 500 (expected 200)\n",
      "\tBody: \"<!doctype html>\\n<html lang=en>\\n<title>500 Internal Server Error</title>\\n<h1>Internal Server Error</h1>\\n<p>The server encountered an internal error and was unable to complete your request. Either the server is overloaded or there is an error in the application.</p>\\n\"\n",
      "INFO 11:58:09.745437 Turn: 50, Snakes Alive: [Jesse, JonK, Rick, Matt], Food: 2, Hazards: 0\n",
      "INFO 11:58:09.869201 Turn: 51, Snakes Alive: [Jesse, JonK, Rick, Matt], Food: 3, Hazards: 0\n",
      "INFO 11:58:09.987174 Turn: 52, Snakes Alive: [Jesse, JonK, Rick, Matt], Food: 3, Hazards: 0\n",
      "INFO 11:58:10.108114 Turn: 53, Snakes Alive: [Jesse, JonK, Rick, Matt], Food: 3, Hazards: 0\n",
      "INFO 11:58:10.236695 Turn: 54, Snakes Alive: [Jesse, JonK, Rick, Matt], Food: 1, Hazards: 0\n",
      "INFO 11:58:10.342461 Turn: 55, Snakes Alive: [Jesse, JonK, Rick, Matt], Food: 1, Hazards: 0\n",
      "INFO 11:58:10.463481 Turn: 56, Snakes Alive: [Jesse, JonK, Rick, Matt], Food: 1, Hazards: 0\n",
      "INFO 11:58:10.569136 Turn: 57, Snakes Alive: [JonK, Rick, Matt], Food: 1, Hazards: 0\n",
      "INFO 11:58:10.690001 Turn: 58, Snakes Alive: [JonK, Rick, Matt], Food: 1, Hazards: 0\n",
      "INFO 11:58:10.799267 Turn: 59, Snakes Alive: [JonK, Rick, Matt], Food: 1, Hazards: 0\n",
      "INFO 11:58:10.926439 Turn: 60, Snakes Alive: [JonK, Rick, Matt], Food: 2, Hazards: 0\n",
      "INFO 11:58:11.052880 Turn: 61, Snakes Alive: [JonK, Rick, Matt], Food: 2, Hazards: 0\n",
      "INFO 11:58:11.174443 Turn: 62, Snakes Alive: [JonK, Rick, Matt], Food: 2, Hazards: 0\n",
      "INFO 11:58:11.309650 Turn: 63, Snakes Alive: [JonK, Rick, Matt], Food: 2, Hazards: 0\n",
      "INFO 11:58:11.425599 Turn: 64, Snakes Alive: [JonK, Rick, Matt], Food: 1, Hazards: 0\n",
      "INFO 11:58:11.542148 Turn: 65, Snakes Alive: [JonK, Rick, Matt], Food: 1, Hazards: 0\n",
      "INFO 11:58:11.659105 Turn: 66, Snakes Alive: [JonK, Rick, Matt], Food: 1, Hazards: 0\n",
      "INFO 11:58:11.799864 Turn: 67, Snakes Alive: [JonK, Rick, Matt], Food: 1, Hazards: 0\n",
      "INFO 11:58:11.919067 Turn: 68, Snakes Alive: [JonK, Rick, Matt], Food: 2, Hazards: 0\n",
      "INFO 11:58:12.040887 Turn: 69, Snakes Alive: [JonK, Rick, Matt], Food: 2, Hazards: 0\n",
      "INFO 11:58:12.155286 Turn: 70, Snakes Alive: [JonK, Rick, Matt], Food: 1, Hazards: 0\n",
      "INFO 11:58:12.259679 Turn: 71, Snakes Alive: [JonK, Rick, Matt], Food: 1, Hazards: 0\n",
      "INFO 11:58:12.393056 Turn: 72, Snakes Alive: [JonK, Rick, Matt], Food: 2, Hazards: 0\n",
      "INFO 11:58:12.499025 Turn: 73, Snakes Alive: [JonK, Rick, Matt], Food: 3, Hazards: 0\n",
      "INFO 11:58:12.624128 Turn: 74, Snakes Alive: [JonK, Rick, Matt], Food: 3, Hazards: 0\n",
      "INFO 11:58:12.743052 Turn: 75, Snakes Alive: [JonK, Rick, Matt], Food: 4, Hazards: 0\n",
      "INFO 11:58:12.863171 Turn: 76, Snakes Alive: [JonK, Rick, Matt], Food: 3, Hazards: 0\n",
      "INFO 11:58:12.981872 Turn: 77, Snakes Alive: [JonK, Rick, Matt], Food: 2, Hazards: 0\n",
      "INFO 11:58:13.120034 Turn: 78, Snakes Alive: [JonK, Rick, Matt], Food: 2, Hazards: 0\n",
      "INFO 11:58:13.236519 Turn: 79, Snakes Alive: [JonK, Rick, Matt], Food: 2, Hazards: 0\n",
      "INFO 11:58:13.347850 Turn: 80, Snakes Alive: [JonK, Rick, Matt], Food: 1, Hazards: 0\n",
      "INFO 11:58:13.459894 Turn: 81, Snakes Alive: [JonK, Rick, Matt], Food: 1, Hazards: 0\n",
      "INFO 11:58:13.576923 Turn: 82, Snakes Alive: [JonK, Rick, Matt], Food: 1, Hazards: 0\n",
      "INFO 11:58:13.688915 Turn: 83, Snakes Alive: [JonK, Rick, Matt], Food: 1, Hazards: 0\n",
      "INFO 11:58:13.802088 Turn: 84, Snakes Alive: [JonK, Rick, Matt], Food: 1, Hazards: 0\n",
      "INFO 11:58:13.921730 Turn: 85, Snakes Alive: [JonK, Rick, Matt], Food: 2, Hazards: 0\n",
      "INFO 11:58:14.035320 Turn: 86, Snakes Alive: [JonK, Rick, Matt], Food: 2, Hazards: 0\n",
      "INFO 11:58:14.155776 Turn: 87, Snakes Alive: [JonK, Rick, Matt], Food: 3, Hazards: 0\n",
      "INFO 11:58:14.270418 Turn: 88, Snakes Alive: [JonK, Rick, Matt], Food: 4, Hazards: 0\n",
      "INFO 11:58:14.390144 Turn: 89, Snakes Alive: [JonK, Rick, Matt], Food: 4, Hazards: 0\n",
      "INFO 11:58:14.510418 Turn: 90, Snakes Alive: [JonK, Rick, Matt], Food: 4, Hazards: 0\n",
      "INFO 11:58:14.619063 Turn: 91, Snakes Alive: [JonK, Rick, Matt], Food: 4, Hazards: 0\n",
      "INFO 11:58:14.738034 Turn: 92, Snakes Alive: [JonK, Rick, Matt], Food: 4, Hazards: 0\n",
      "INFO 11:58:14.854456 Turn: 93, Snakes Alive: [JonK, Rick, Matt], Food: 4, Hazards: 0\n",
      "INFO 11:58:14.974037 Turn: 94, Snakes Alive: [JonK, Rick, Matt], Food: 4, Hazards: 0\n",
      "INFO 11:58:15.090805 Turn: 95, Snakes Alive: [JonK, Rick, Matt], Food: 4, Hazards: 0\n",
      "INFO 11:58:15.209214 Turn: 96, Snakes Alive: [JonK, Rick, Matt], Food: 4, Hazards: 0\n",
      "INFO 11:58:15.330322 Turn: 97, Snakes Alive: [JonK, Rick, Matt], Food: 4, Hazards: 0\n",
      "INFO 11:58:15.448984 Turn: 98, Snakes Alive: [JonK, Rick, Matt], Food: 4, Hazards: 0\n",
      "INFO 11:58:15.573938 Turn: 99, Snakes Alive: [JonK, Rick, Matt], Food: 4, Hazards: 0\n",
      "INFO 11:58:15.699326 Turn: 100, Snakes Alive: [JonK, Rick, Matt], Food: 4, Hazards: 0\n",
      "INFO 11:58:15.805628 Turn: 101, Snakes Alive: [JonK, Matt], Food: 4, Hazards: 0\n",
      "INFO 11:58:15.832455 Turn: 102, Snakes Alive: [JonK, Matt], Food: 4, Hazards: 0\n",
      "INFO 11:58:15.864685 Turn: 103, Snakes Alive: [JonK, Matt], Food: 4, Hazards: 0\n",
      "INFO 11:58:15.893200 Turn: 104, Snakes Alive: [JonK, Matt], Food: 4, Hazards: 0\n",
      "INFO 11:58:15.925345 Turn: 105, Snakes Alive: [JonK, Matt], Food: 4, Hazards: 0\n",
      "INFO 11:58:15.956663 Turn: 106, Snakes Alive: [JonK, Matt], Food: 4, Hazards: 0\n",
      "INFO 11:58:15.985145 Turn: 107, Snakes Alive: [JonK, Matt], Food: 4, Hazards: 0\n",
      "INFO 11:58:16.015113 Turn: 108, Snakes Alive: [JonK, Matt], Food: 4, Hazards: 0\n",
      "INFO 11:58:16.045115 Turn: 109, Snakes Alive: [JonK, Matt], Food: 4, Hazards: 0\n",
      "INFO 11:58:16.072050 Turn: 110, Snakes Alive: [JonK, Matt], Food: 3, Hazards: 0\n",
      "INFO 11:58:16.104268 Turn: 111, Snakes Alive: [JonK, Matt], Food: 4, Hazards: 0\n",
      "INFO 11:58:16.140181 Turn: 112, Snakes Alive: [JonK, Matt], Food: 4, Hazards: 0\n",
      "INFO 11:58:16.169236 Turn: 113, Snakes Alive: [JonK, Matt], Food: 4, Hazards: 0\n",
      "INFO 11:58:16.201271 Turn: 114, Snakes Alive: [JonK, Matt], Food: 3, Hazards: 0\n",
      "INFO 11:58:16.230755 Turn: 115, Snakes Alive: [JonK, Matt], Food: 3, Hazards: 0\n",
      "INFO 11:58:16.264860 Turn: 116, Snakes Alive: [JonK, Matt], Food: 3, Hazards: 0\n",
      "INFO 11:58:16.292004 Turn: 117, Snakes Alive: [JonK, Matt], Food: 2, Hazards: 0\n",
      "INFO 11:58:16.329370 Turn: 118, Snakes Alive: [JonK, Matt], Food: 2, Hazards: 0\n",
      "INFO 11:58:16.356701 Turn: 119, Snakes Alive: [JonK, Matt], Food: 1, Hazards: 0\n",
      "INFO 11:58:16.385681 Turn: 120, Snakes Alive: [JonK, Matt], Food: 1, Hazards: 0\n",
      "INFO 11:58:16.413881 Turn: 121, Snakes Alive: [JonK, Matt], Food: 1, Hazards: 0\n",
      "INFO 11:58:16.439264 Turn: 122, Snakes Alive: [JonK, Matt], Food: 1, Hazards: 0\n",
      "INFO 11:58:16.469180 Turn: 123, Snakes Alive: [JonK, Matt], Food: 1, Hazards: 0\n",
      "INFO 11:58:16.506043 Turn: 124, Snakes Alive: [JonK, Matt], Food: 1, Hazards: 0\n",
      "INFO 11:58:16.531107 Turn: 125, Snakes Alive: [JonK, Matt], Food: 1, Hazards: 0\n",
      "INFO 11:58:16.569062 Turn: 126, Snakes Alive: [JonK, Matt], Food: 1, Hazards: 0\n",
      "INFO 11:58:16.599204 Turn: 127, Snakes Alive: [JonK, Matt], Food: 1, Hazards: 0\n",
      "INFO 11:58:16.629098 Turn: 128, Snakes Alive: [JonK, Matt], Food: 1, Hazards: 0\n",
      "INFO 11:58:16.663066 Turn: 129, Snakes Alive: [JonK, Matt], Food: 1, Hazards: 0\n",
      "INFO 11:58:16.692647 Turn: 130, Snakes Alive: [JonK, Matt], Food: 1, Hazards: 0\n",
      "INFO 11:58:16.724556 Turn: 131, Snakes Alive: [JonK, Matt], Food: 1, Hazards: 0\n",
      "INFO 11:58:16.753854 Turn: 132, Snakes Alive: [JonK, Matt], Food: 1, Hazards: 0\n",
      "INFO 11:58:16.782294 Turn: 133, Snakes Alive: [JonK, Matt], Food: 1, Hazards: 0\n",
      "INFO 11:58:16.813901 Turn: 134, Snakes Alive: [JonK, Matt], Food: 1, Hazards: 0\n",
      "INFO 11:58:16.842118 Turn: 135, Snakes Alive: [JonK, Matt], Food: 1, Hazards: 0\n",
      "INFO 11:58:16.873919 Turn: 136, Snakes Alive: [JonK, Matt], Food: 1, Hazards: 0\n",
      "INFO 11:58:16.911898 Turn: 137, Snakes Alive: [JonK, Matt], Food: 2, Hazards: 0\n",
      "INFO 11:58:16.939115 Turn: 138, Snakes Alive: [JonK, Matt], Food: 1, Hazards: 0\n",
      "INFO 11:58:16.969211 Turn: 139, Snakes Alive: [JonK, Matt], Food: 1, Hazards: 0\n",
      "INFO 11:58:16.999952 Turn: 140, Snakes Alive: [JonK, Matt], Food: 1, Hazards: 0\n",
      "INFO 11:58:17.043913 Turn: 141, Snakes Alive: [JonK, Matt], Food: 1, Hazards: 0\n",
      "INFO 11:58:17.078041 Turn: 142, Snakes Alive: [JonK, Matt], Food: 1, Hazards: 0\n",
      "INFO 11:58:17.107022 Turn: 143, Snakes Alive: [JonK, Matt], Food: 1, Hazards: 0\n",
      "INFO 11:58:17.137140 Turn: 144, Snakes Alive: [JonK, Matt], Food: 1, Hazards: 0\n",
      "INFO 11:58:17.171486 Turn: 145, Snakes Alive: [JonK, Matt], Food: 1, Hazards: 0\n",
      "INFO 11:58:17.205559 Turn: 146, Snakes Alive: [JonK, Matt], Food: 2, Hazards: 0\n",
      "INFO 11:58:17.236112 Turn: 147, Snakes Alive: [JonK, Matt], Food: 2, Hazards: 0\n",
      "INFO 11:58:17.268864 Turn: 148, Snakes Alive: [JonK, Matt], Food: 1, Hazards: 0\n",
      "INFO 11:58:17.299674 Turn: 149, Snakes Alive: [JonK, Matt], Food: 1, Hazards: 0\n",
      "INFO 11:58:17.332305 Turn: 150, Snakes Alive: [JonK, Matt], Food: 1, Hazards: 0\n",
      "INFO 11:58:17.369504 Turn: 151, Snakes Alive: [JonK, Matt], Food: 1, Hazards: 0\n",
      "INFO 11:58:17.402339 Turn: 152, Snakes Alive: [JonK, Matt], Food: 1, Hazards: 0\n",
      "INFO 11:58:17.437707 Turn: 153, Snakes Alive: [JonK, Matt], Food: 2, Hazards: 0\n",
      "INFO 11:58:17.472399 Turn: 154, Snakes Alive: [JonK, Matt], Food: 2, Hazards: 0\n",
      "INFO 11:58:17.509211 Turn: 155, Snakes Alive: [JonK, Matt], Food: 2, Hazards: 0\n",
      "INFO 11:58:17.543374 Turn: 156, Snakes Alive: [JonK, Matt], Food: 2, Hazards: 0\n",
      "INFO 11:58:17.579333 Turn: 157, Snakes Alive: [JonK, Matt], Food: 3, Hazards: 0\n",
      "INFO 11:58:17.612668 Turn: 158, Snakes Alive: [JonK, Matt], Food: 3, Hazards: 0\n",
      "INFO 11:58:17.644106 Turn: 159, Snakes Alive: [JonK, Matt], Food: 3, Hazards: 0\n",
      "INFO 11:58:17.672932 Turn: 160, Snakes Alive: [JonK, Matt], Food: 2, Hazards: 0\n",
      "INFO 11:58:17.715205 Turn: 161, Snakes Alive: [JonK, Matt], Food: 2, Hazards: 0\n",
      "INFO 11:58:17.744118 Turn: 162, Snakes Alive: [JonK, Matt], Food: 1, Hazards: 0\n",
      "INFO 11:58:17.770335 Turn: 163, Snakes Alive: [JonK, Matt], Food: 1, Hazards: 0\n",
      "INFO 11:58:17.807508 Turn: 164, Snakes Alive: [JonK, Matt], Food: 1, Hazards: 0\n",
      "INFO 11:58:17.838086 Turn: 165, Snakes Alive: [JonK, Matt], Food: 1, Hazards: 0\n",
      "INFO 11:58:17.863060 Turn: 166, Snakes Alive: [JonK, Matt], Food: 1, Hazards: 0\n",
      "INFO 11:58:17.894285 Turn: 167, Snakes Alive: [JonK, Matt], Food: 2, Hazards: 0\n",
      "INFO 11:58:17.929194 Turn: 168, Snakes Alive: [JonK, Matt], Food: 2, Hazards: 0\n",
      "INFO 11:58:17.959376 Turn: 169, Snakes Alive: [JonK, Matt], Food: 2, Hazards: 0\n",
      "INFO 11:58:17.990664 Turn: 170, Snakes Alive: [JonK, Matt], Food: 2, Hazards: 0\n",
      "INFO 11:58:18.029240 Turn: 171, Snakes Alive: [JonK, Matt], Food: 2, Hazards: 0\n",
      "INFO 11:58:18.054425 Turn: 172, Snakes Alive: [JonK, Matt], Food: 1, Hazards: 0\n",
      "INFO 11:58:18.084262 Turn: 173, Snakes Alive: [JonK, Matt], Food: 1, Hazards: 0\n",
      "INFO 11:58:18.120777 Turn: 174, Snakes Alive: [JonK, Matt], Food: 1, Hazards: 0\n",
      "INFO 11:58:18.149328 Turn: 175, Snakes Alive: [JonK, Matt], Food: 1, Hazards: 0\n",
      "INFO 11:58:18.199822 Turn: 176, Snakes Alive: [JonK, Matt], Food: 1, Hazards: 0\n",
      "INFO 11:58:18.280251 Turn: 177, Snakes Alive: [JonK, Matt], Food: 1, Hazards: 0\n",
      "INFO 11:58:18.340541 Turn: 178, Snakes Alive: [JonK, Matt], Food: 2, Hazards: 0\n",
      "INFO 11:58:18.374676 Turn: 179, Snakes Alive: [JonK, Matt], Food: 2, Hazards: 0\n",
      "INFO 11:58:18.405141 Turn: 180, Snakes Alive: [JonK, Matt], Food: 1, Hazards: 0\n",
      "INFO 11:58:18.435403 Turn: 181, Snakes Alive: [JonK, Matt], Food: 1, Hazards: 0\n",
      "INFO 11:58:18.466357 Turn: 182, Snakes Alive: [JonK, Matt], Food: 2, Hazards: 0\n",
      "INFO 11:58:18.499140 Turn: 183, Snakes Alive: [JonK, Matt], Food: 2, Hazards: 0\n",
      "INFO 11:58:18.529741 Turn: 184, Snakes Alive: [JonK, Matt], Food: 3, Hazards: 0\n",
      "INFO 11:58:18.559185 Turn: 185, Snakes Alive: [JonK, Matt], Food: 4, Hazards: 0\n",
      "INFO 11:58:18.580462 Turn: 186, Snakes Alive: [JonK, Matt], Food: 4, Hazards: 0\n",
      "INFO 11:58:18.616719 Turn: 187, Snakes Alive: [JonK, Matt], Food: 4, Hazards: 0\n",
      "INFO 11:58:18.649144 Turn: 188, Snakes Alive: [JonK, Matt], Food: 4, Hazards: 0\n",
      "INFO 11:58:18.684603 Turn: 189, Snakes Alive: [JonK, Matt], Food: 5, Hazards: 0\n",
      "INFO 11:58:18.713934 Turn: 190, Snakes Alive: [JonK, Matt], Food: 5, Hazards: 0\n",
      "INFO 11:58:18.749331 Turn: 191, Snakes Alive: [JonK, Matt], Food: 5, Hazards: 0\n",
      "INFO 11:58:18.778153 Turn: 192, Snakes Alive: [JonK, Matt], Food: 5, Hazards: 0\n",
      "INFO 11:58:18.803833 Turn: 193, Snakes Alive: [JonK, Matt], Food: 4, Hazards: 0\n",
      "INFO 11:58:18.837251 Turn: 194, Snakes Alive: [JonK, Matt], Food: 3, Hazards: 0\n",
      "INFO 11:58:18.877408 Turn: 195, Snakes Alive: [JonK, Matt], Food: 3, Hazards: 0\n",
      "INFO 11:58:18.905427 Turn: 196, Snakes Alive: [JonK, Matt], Food: 3, Hazards: 0\n",
      "INFO 11:58:18.934204 Turn: 197, Snakes Alive: [JonK, Matt], Food: 3, Hazards: 0\n",
      "INFO 11:58:18.966470 Turn: 198, Snakes Alive: [JonK, Matt], Food: 3, Hazards: 0\n",
      "INFO 11:58:18.995836 Turn: 199, Snakes Alive: [JonK, Matt], Food: 3, Hazards: 0\n",
      "INFO 11:58:19.027287 Turn: 200, Snakes Alive: [JonK, Matt], Food: 3, Hazards: 0\n",
      "INFO 11:58:19.060759 Turn: 201, Snakes Alive: [JonK, Matt], Food: 3, Hazards: 0\n",
      "INFO 11:58:19.099907 Turn: 202, Snakes Alive: [JonK, Matt], Food: 3, Hazards: 0\n",
      "INFO 11:58:19.139252 Turn: 203, Snakes Alive: [JonK, Matt], Food: 4, Hazards: 0\n",
      "INFO 11:58:19.187303 Turn: 204, Snakes Alive: [JonK, Matt], Food: 3, Hazards: 0\n",
      "INFO 11:58:19.220629 Turn: 205, Snakes Alive: [JonK, Matt], Food: 3, Hazards: 0\n",
      "INFO 11:58:19.271139 Turn: 206, Snakes Alive: [JonK, Matt], Food: 3, Hazards: 0\n",
      "INFO 11:58:19.311087 Turn: 207, Snakes Alive: [JonK, Matt], Food: 3, Hazards: 0\n",
      "INFO 11:58:19.339568 Turn: 208, Snakes Alive: [JonK, Matt], Food: 3, Hazards: 0\n",
      "INFO 11:58:19.376531 Turn: 209, Snakes Alive: [JonK, Matt], Food: 4, Hazards: 0\n",
      "INFO 11:58:19.425333 Turn: 210, Snakes Alive: [JonK, Matt], Food: 4, Hazards: 0\n",
      "INFO 11:58:19.456521 Turn: 211, Snakes Alive: [JonK, Matt], Food: 4, Hazards: 0\n",
      "INFO 11:58:19.496144 Turn: 212, Snakes Alive: [JonK, Matt], Food: 4, Hazards: 0\n",
      "INFO 11:58:19.530380 Turn: 213, Snakes Alive: [JonK, Matt], Food: 5, Hazards: 0\n",
      "INFO 11:58:19.560844 Turn: 214, Snakes Alive: [JonK, Matt], Food: 5, Hazards: 0\n",
      "INFO 11:58:19.589352 Turn: 215, Snakes Alive: [JonK, Matt], Food: 5, Hazards: 0\n",
      "INFO 11:58:19.627454 Turn: 216, Snakes Alive: [JonK, Matt], Food: 5, Hazards: 0\n",
      "INFO 11:58:19.662713 Turn: 217, Snakes Alive: [JonK], Food: 6, Hazards: 0\n",
      "INFO 11:58:20.449366 Game completed after 218 turns. JonK was the winner.\n"
     ]
    }
   ],
   "source": [
    "sim = subprocess.run(\"\"\"./battlesnake.exe play -W 11 -H 11 --name Nightwing --url https://octopus-app-u4n2n.ondigitalocean.app/ --name Rick --url https://monkfish-app-fwkab.ondigitalocean.app/ --name Matt --url https://battlesnake-matt.azurewebsites.net/ --name Glynn --url https://battlesnake-glynn.azurewebsites.net/ --name Jesse --url https://battlesnake-jesse.azurewebsites.net/ --name JonK --url https://jellyfish-app-zz9gu.ondigitalocean.app/rust --name Einar --url https://battlesnakes-einar.azurewebsites.net/  --name Tiana --url https://battlesnake-tiana.azurewebsites.net/ \"\"\", shell=True, stdout=subprocess.PIPE, stderr=subprocess.PIPE, universal_newlines=True)"
   ],
   "metadata": {
    "collapsed": false,
    "ExecuteTime": {
     "end_time": "2023-11-01T11:58:20.513318200Z",
     "start_time": "2023-11-01T11:57:56.232917200Z"
    }
   },
   "id": "d6d7478ae4d0ea18"
  },
  {
   "cell_type": "code",
   "execution_count": 27,
   "outputs": [
    {
     "name": "stdout",
     "output_type": "stream",
     "text": [
      "Jesse\n"
     ]
    }
   ],
   "source": [
    "for i in range(8): \n",
    "    sim = subprocess.run(\"\"\"./battlesnake.exe play -W 11 -H 11 --name Nightwing --url https://octopus-app-u4n2n.ondigitalocean.app/ --name Rick --url https://monkfish-app-fwkab.ondigitalocean.app/ --name Matt --url https://battlesnake-matt.azurewebsites.net/ --name Glynn --url https://battlesnake-glynn.azurewebsites.net/ --name Jesse --url https://battlesnake-jesse.azurewebsites.net/ --name JonK --url https://jellyfish-app-zz9gu.ondigitalocean.app/rust --name Einar --url https://battlesnakes-einar.azurewebsites.net/  --name Tiana --url https://battlesnake-tiana.azurewebsites.net/ \"\"\", shell=True, stdout=subprocess.PIPE, stderr=subprocess.PIPE, universal_newlines=True)\n",
    "    try:\n",
    "        winner = sim.stderr.split(\"Game completed\")[1].split(\" was the winner\")[0].split(\"turns. \")[1]\n",
    "        winners.append(winner)\n",
    "        print(winner)\n",
    "    except:\n",
    "        pass"
   ],
   "metadata": {
    "collapsed": false,
    "ExecuteTime": {
     "end_time": "2023-11-01T13:24:30.727238200Z",
     "start_time": "2023-11-01T13:23:59.537303900Z"
    }
   },
   "id": "b37234f201e1e6da"
  },
  {
   "cell_type": "code",
   "execution_count": 28,
   "outputs": [
    {
     "data": {
      "text/plain": "100"
     },
     "execution_count": 28,
     "metadata": {},
     "output_type": "execute_result"
    }
   ],
   "source": [
    "len(winners)"
   ],
   "metadata": {
    "collapsed": false,
    "ExecuteTime": {
     "end_time": "2023-11-01T13:25:00.617058200Z",
     "start_time": "2023-11-01T13:25:00.607166800Z"
    }
   },
   "id": "6a2f26c16a3a5d9"
  },
  {
   "cell_type": "code",
   "execution_count": 29,
   "outputs": [],
   "source": [
    "from collections import Counter"
   ],
   "metadata": {
    "collapsed": false,
    "ExecuteTime": {
     "end_time": "2023-11-01T13:25:01.457109200Z",
     "start_time": "2023-11-01T13:25:01.450100800Z"
    }
   },
   "id": "37fe75f602e6228a"
  },
  {
   "cell_type": "code",
   "execution_count": 31,
   "outputs": [],
   "source": [
    "# Counter(winners)"
   ],
   "metadata": {
    "collapsed": false,
    "ExecuteTime": {
     "end_time": "2023-11-01T13:44:17.473902500Z",
     "start_time": "2023-11-01T13:44:17.454485600Z"
    }
   },
   "id": "8c1ae66113a8500b"
  },
  {
   "cell_type": "code",
   "execution_count": 22,
   "outputs": [
    {
     "data": {
      "text/plain": "0.4782608695652174"
     },
     "execution_count": 22,
     "metadata": {},
     "output_type": "execute_result"
    }
   ],
   "source": [
    "44/92"
   ],
   "metadata": {
    "collapsed": false,
    "ExecuteTime": {
     "end_time": "2023-11-01T13:12:00.369205800Z",
     "start_time": "2023-11-01T13:12:00.310713700Z"
    }
   },
   "id": "5d027ad8571db2c4"
  },
  {
   "cell_type": "code",
   "execution_count": null,
   "outputs": [],
   "source": [],
   "metadata": {
    "collapsed": false
   },
   "id": "7c884901378b481a"
  }
 ],
 "metadata": {
  "kernelspec": {
   "display_name": "Python 3",
   "language": "python",
   "name": "python3"
  },
  "language_info": {
   "codemirror_mode": {
    "name": "ipython",
    "version": 2
   },
   "file_extension": ".py",
   "mimetype": "text/x-python",
   "name": "python",
   "nbconvert_exporter": "python",
   "pygments_lexer": "ipython2",
   "version": "2.7.6"
  }
 },
 "nbformat": 4,
 "nbformat_minor": 5
}

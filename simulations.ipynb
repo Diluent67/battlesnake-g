{
 "cells": [
  {
   "cell_type": "code",
   "execution_count": 1,
   "id": "initial_id",
   "metadata": {
    "collapsed": true,
    "ExecuteTime": {
     "end_time": "2023-11-09T14:33:47.046771400Z",
     "start_time": "2023-11-09T14:33:47.038246900Z"
    }
   },
   "outputs": [],
   "source": [
    "import os\n",
    "import subprocess"
   ]
  },
  {
   "cell_type": "code",
   "execution_count": 2,
   "outputs": [],
   "source": [
    "winners = []"
   ],
   "metadata": {
    "collapsed": false,
    "ExecuteTime": {
     "end_time": "2023-11-09T14:33:47.056764900Z",
     "start_time": "2023-11-09T14:33:47.056764900Z"
    }
   },
   "id": "c4520983ada804de"
  },
  {
   "cell_type": "code",
   "execution_count": 5,
   "outputs": [],
   "source": [
    "# sim = subprocess.run(\"\"\"./battlesnake.exe play -W 11 -H 11 --name Nightwing --url https://octopus-app-u4n2n.ondigitalocean.app/ --name Rick --url https://monkfish-app-fwkab.ondigitalocean.app/ --name Matt --url https://battlesnake-matt.azurewebsites.net/ --name Glynn --url https://battlesnake-glynn.azurewebsites.net/ --name Jesse --url https://battlesnake-jesse.azurewebsites.net/ --name JonK --url https://jellyfish-app-zz9gu.ondigitalocean.app/rust --name Einar --url https://battlesnakes-einar.azurewebsites.net/  --name Tiana --url https://battlesnake-tiana.azurewebsites.net/ \"\"\", shell=True)"
   ],
   "metadata": {
    "collapsed": false,
    "ExecuteTime": {
     "end_time": "2023-11-09T14:35:39.164184600Z",
     "start_time": "2023-11-09T14:35:39.097570500Z"
    }
   },
   "id": "d6d7478ae4d0ea18"
  },
  {
   "cell_type": "code",
   "execution_count": 12,
   "outputs": [
    {
     "name": "stdout",
     "output_type": "stream",
     "text": [
      "Rick\n",
      "Rick\n",
      "Nightwing\n",
      "Nightwing\n",
      "Nightwing\n",
      "Nightwing\n",
      "Nightwing\n",
      "Nightwing\n",
      "Nightwing\n",
      "Einar\n",
      "Nightwing\n",
      "Nightwing\n",
      "Jesse\n",
      "Nightwing\n",
      "Nightwing\n",
      "Nightwing\n",
      "Nightwing\n",
      "Nightwing\n",
      "Matt\n",
      "Nightwing\n",
      "Nightwing\n",
      "Nightwing\n",
      "Rick\n",
      "Nightwing\n",
      "JonK\n",
      "Nightwing\n",
      "Nightwing\n",
      "Nightwing\n",
      "Jesse\n",
      "JonK\n",
      "Nightwing\n",
      "Nightwing\n",
      "Nightwing\n",
      "Nightwing\n",
      "Nightwing\n",
      "Nightwing\n",
      "Nightwing\n",
      "Nightwing\n",
      "Nightwing\n",
      "Rick\n",
      "Nightwing\n",
      "Nightwing\n"
     ]
    }
   ],
   "source": [
    "for i in range(100): \n",
    "    sim = subprocess.run(\"\"\"./battlesnake.exe play -W 11 -H 11 --name Nightwing --url https://octopus-app-u4n2n.ondigitalocean.app/ --name Rick --url https://monkfish-app-fwkab.ondigitalocean.app/ --name Matt --url https://battlesnake-matt.azurewebsites.net/ --name Glynn --url https://battlesnake-glynn.azurewebsites.net/ --name Jesse --url https://battlesnake-jesse.azurewebsites.net/ --name JonK --url https://jellyfish-app-zz9gu.ondigitalocean.app/rust --name Einar --url https://battlesnakes-einar.azurewebsites.net/  --name Tiana --url https://battlesnake-tiana.azurewebsites.net/ \"\"\", shell=True, stdout=subprocess.PIPE, stderr=subprocess.PIPE, universal_newlines=True)\n",
    "    try:\n",
    "        winner = sim.stderr.split(\"Game completed\")[1].split(\" was the winner\")[0].split(\"turns. \")[1]\n",
    "        winners.append(winner)\n",
    "        print(winner)\n",
    "    except:\n",
    "        pass"
   ],
   "metadata": {
    "collapsed": false,
    "ExecuteTime": {
     "end_time": "2023-11-09T16:58:38.481741500Z",
     "start_time": "2023-11-09T16:29:06.929018700Z"
    }
   },
   "id": "b37234f201e1e6da"
  },
  {
   "cell_type": "code",
   "execution_count": 13,
   "outputs": [
    {
     "data": {
      "text/plain": "134"
     },
     "execution_count": 13,
     "metadata": {},
     "output_type": "execute_result"
    }
   ],
   "source": [
    "len(winners)"
   ],
   "metadata": {
    "collapsed": false,
    "ExecuteTime": {
     "end_time": "2023-11-09T17:01:34.358443200Z",
     "start_time": "2023-11-09T17:01:34.348459900Z"
    }
   },
   "id": "6a2f26c16a3a5d9"
  },
  {
   "cell_type": "code",
   "execution_count": 14,
   "outputs": [],
   "source": [
    "from collections import Counter"
   ],
   "metadata": {
    "collapsed": false,
    "ExecuteTime": {
     "end_time": "2023-11-09T17:01:36.286409700Z",
     "start_time": "2023-11-09T17:01:36.280411800Z"
    }
   },
   "id": "37fe75f602e6228a"
  },
  {
   "cell_type": "code",
   "execution_count": 15,
   "outputs": [
    {
     "data": {
      "text/plain": "Counter({'Nightwing': 98,\n         'JonK': 13,\n         'Rick': 13,\n         'Einar': 4,\n         'Matt': 3,\n         'Jesse': 2,\n         'Glynn': 1})"
     },
     "execution_count": 15,
     "metadata": {},
     "output_type": "execute_result"
    }
   ],
   "source": [
    "Counter(winners)"
   ],
   "metadata": {
    "collapsed": false,
    "ExecuteTime": {
     "end_time": "2023-11-09T17:01:36.719252900Z",
     "start_time": "2023-11-09T17:01:36.710249Z"
    }
   },
   "id": "8c1ae66113a8500b"
  },
  {
   "cell_type": "code",
   "execution_count": 16,
   "outputs": [
    {
     "data": {
      "text/plain": "0.7313432835820896"
     },
     "execution_count": 16,
     "metadata": {},
     "output_type": "execute_result"
    }
   ],
   "source": [
    "98/134"
   ],
   "metadata": {
    "collapsed": false,
    "ExecuteTime": {
     "end_time": "2023-11-09T17:01:45.233331200Z",
     "start_time": "2023-11-09T17:01:45.174474900Z"
    }
   },
   "id": "5d027ad8571db2c4"
  },
  {
   "cell_type": "code",
   "execution_count": null,
   "outputs": [],
   "source": [],
   "metadata": {
    "collapsed": false
   },
   "id": "7c884901378b481a"
  }
 ],
 "metadata": {
  "kernelspec": {
   "display_name": "Python 3",
   "language": "python",
   "name": "python3"
  },
  "language_info": {
   "codemirror_mode": {
    "name": "ipython",
    "version": 2
   },
   "file_extension": ".py",
   "mimetype": "text/x-python",
   "name": "python",
   "nbconvert_exporter": "python",
   "pygments_lexer": "ipython2",
   "version": "2.7.6"
  }
 },
 "nbformat": 4,
 "nbformat_minor": 5
}
